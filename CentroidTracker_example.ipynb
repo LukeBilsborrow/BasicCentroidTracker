{
  "nbformat": 4,
  "nbformat_minor": 0,
  "metadata": {
    "colab": {
      "provenance": [],
      "gpuType": "T4"
    },
    "kernelspec": {
      "name": "python3",
      "display_name": "Python 3"
    },
    "language_info": {
      "name": "python"
    },
    "accelerator": "GPU"
  },
  "cells": [
    {
      "cell_type": "code",
      "execution_count": null,
      "metadata": {
        "id": "GoRFw0gJp7N1"
      },
      "outputs": [],
      "source": [
        "!git clone https://github.com/LukeBilsborrow/BasicCentroidTracker\n",
        "%cd BasicCentroidTracker\n",
        "!mkdir frames && mkdir output"
      ]
    },
    {
      "cell_type": "code",
      "source": [
        "!pip install yt-dlp ffmpeg\n",
        "!pip install -r requirements.txt"
      ],
      "metadata": {
        "id": "zsB4RYViroLa"
      },
      "execution_count": null,
      "outputs": []
    },
    {
      "cell_type": "code",
      "source": [
        "!yt-dlp https://youtu.be/rXaENvEzKTY -f bv -o ./jim.mp4\n",
        "!ffmpeg -ss 3:16 -to 3:21 -i ./jim.mp4  -y trimmed.mp4\n",
        "!ffmpeg -i ./trimmed.mp4 -qscale:v 3 ./frames/%4d.jpg"
      ],
      "metadata": {
        "id": "yC_Jjm6ZrIOD"
      },
      "execution_count": null,
      "outputs": []
    },
    {
      "cell_type": "code",
      "source": [
        "# cnn or hog\n",
        "!python example.py cnn"
      ],
      "metadata": {
        "id": "5ozLl4O9rTT9"
      },
      "execution_count": null,
      "outputs": []
    },
    {
      "cell_type": "code",
      "source": [
        "!ffmpeg -framerate 60 -i ./output/%4d.jpg  -r 60 -y face_detected.mp4"
      ],
      "metadata": {
        "id": "ow1cl_8owleU"
      },
      "execution_count": null,
      "outputs": []
    }
  ]
}